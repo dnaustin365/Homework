{
 "cells": [
  {
   "cell_type": "markdown",
   "metadata": {},
   "source": [
    "### WEEK 7 Homework\n",
    "7.1.1\n",
    "SELECT\n",
    "\tModelYear, Make, Model\n",
    "from EVRegistry\n",
    "\n",
    "7.1.2\n",
    "SELECT DISTINCT Model as ElectricVehicleType\n",
    "\tfrom EVRegistry\n",
    "\n",
    "7.1.3\n",
    "SELECT *\n",
    "from EVRegistry\n",
    "where ElectricVehicleType = 'Battery Electric Vehicle (BEV)'\n",
    "\n",
    "7.1.4\n",
    "SELECT Make, Model\n",
    "from EVRegistry\n",
    "where BaseMSRP >= 20000 <= 35000\n",
    "\n",
    "7.2.1\n",
    "SELECT *\n",
    "From EVRegistry\n",
    "WHERE City IS NULL\n",
    "\n",
    "7.2.2\n",
    "SELECT Make, Model, ElectricVehicleType\n",
    "From EVRegistry\n",
    "WHERE VIN LIKE '%3E1EA1J'\n",
    "\n",
    "7.2.3\n",
    "select ModelYear, Make, Model, ElectricVehicleType, ElectricRange\n",
    "FROM EVRegistry\n",
    "Where Make = 'TESLA' OR 'CHEVROLET'\n",
    "ORDER BY Make, ModelYear DESC\n",
    "\n",
    "7.2.4\n",
    "SELECT StationID, Count(*) as numUses\n",
    "FROM EVCharging\n",
    "GROUP BY StationID \n",
    "ORDER BY COUNT(*) DESC\n",
    "Limit 5\n",
    "\n",
    "7.2.5\n",
    "SELECT userId, MIN(chargeTimeHrs) as 'minTime', MAX(chargeTimeHrs) as 'maxTime'\n",
    "FROM EVCharging\n",
    "WHERE chargeTimeHrs > 0.5\n",
    "GROUP BY userId\n",
    "ORDER BY 2,3\n",
    "\n"
   ]
  }
 ],
 "metadata": {
  "language_info": {
   "name": "python"
  }
 },
 "nbformat": 4,
 "nbformat_minor": 2
}
