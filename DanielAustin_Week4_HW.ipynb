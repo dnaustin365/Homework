{
 "cells": [
  {
   "cell_type": "markdown",
   "metadata": {},
   "source": [
    "## Daniel Austin Week 4 Homework\n",
    "***\n",
    "<span style='color:Red'>1. Import the module into the code base. </span>\n",
    "\n",
    "<span style='background :grey'> 2. Random , Math </span> \n",
    "#import math\n",
    "#print(math.ceil(15.6))\n",
    "\n",
    "### 3. It allows you to check for errors by recognizing errors but allowing you to call the error out and execute 'around' it.\n",
    "\n",
    "<span style='font-family:Georgia'> 4. TRY, EXCEPT, ELSE, FINALLY </span>\n",
    "\n",
    "<b>5. Lists </b>\n",
    "\n",
    "<span style='color:Blue'>6. Uses less memory, it's faster as well </span>\n",
    "\n",
    "<span style='background :grey'> 7. Attribute must return something that can be converted into a dtype object. </span> \n",
    "\n",
    "### 8. Copying and Viewing Arrays, Linear Algebra\n",
    "\n",
    "<span style='font-family:Georgia'> 9. Matplotlib </span>\n",
    "\n",
    "<b>10. A tuple of non-negative integers </b>\n",
    "\n",
    "<u>11. An array with 3 or more dimensions.</u>\n",
    "\n",
    "<i>12. More efficient calculations </i>\n",
    "\n",
    "<b>13. From memory after execution </b>\n",
    "\n",
    "***"
   ]
  },
  {
   "cell_type": "code",
   "execution_count": 3,
   "metadata": {},
   "outputs": [
    {
     "name": "stdout",
     "output_type": "stream",
     "text": [
      "Renting a car is very expensive.\n"
     ]
    }
   ],
   "source": [
    "age = int(input())\n",
    "if age >= 25:\n",
    "    print(\"Renting a car is more affordable\")\n",
    "if age <25:\n",
    "    print(\"Renting a car is very expensive.\")\n",
    "\n"
   ]
  },
  {
   "cell_type": "code",
   "execution_count": 4,
   "metadata": {},
   "outputs": [
    {
     "name": "stdout",
     "output_type": "stream",
     "text": [
      "You cannot legally rent a car.\n"
     ]
    }
   ],
   "source": [
    "age = int(input())\n",
    "if age >= 25:\n",
    "    print(\"Renting a car is more affordable\")\n",
    "if age >= 18 < 25:\n",
    "    print(\"Renting a car is very expensive.\")\n",
    "else:\n",
    "    print(\"You cannot legally rent a car.\")"
   ]
  },
  {
   "cell_type": "code",
   "execution_count": 16,
   "metadata": {},
   "outputs": [
    {
     "name": "stdout",
     "output_type": "stream",
     "text": [
      "Counter({'o': 4, 'e': 3, 'u': 2, 'i': 1, 'a': 1})\n",
      "43\n"
     ]
    }
   ],
   "source": [
    "from collections import Counter\n",
    "\n",
    "def vowel_counter(input_string):\n",
    "    input_string = input_string.lower()\n",
    "    counts = Counter()\n",
    "\n",
    "    for char in input_string:\n",
    "        if char in 'aeiou':\n",
    "            counts[char] += 1\n",
    "\n",
    "    return counts\n",
    "input_string = str(\"The quick brown fox jumps over the lazy dog\")\n",
    "print(vowel_counter(input_string))\n",
    "print(len(input_string))"
   ]
  },
  {
   "cell_type": "code",
   "execution_count": 17,
   "metadata": {},
   "outputs": [
    {
     "name": "stdout",
     "output_type": "stream",
     "text": [
      "cerise trousers\n",
      "fuschia trousers\n",
      "aqua trousers\n",
      "maple trousers\n",
      "auburn trousers\n",
      "burnt sienna trousers\n",
      "gunmetal blue trousers\n",
      "Dark Sapphire trousers\n",
      "cerise blouse\n",
      "fuschia blouse\n",
      "aqua blouse\n",
      "maple blouse\n",
      "auburn blouse\n",
      "burnt sienna blouse\n",
      "gunmetal blue blouse\n",
      "Dark Sapphire blouse\n",
      "cerise bandana\n",
      "fuschia bandana\n",
      "aqua bandana\n",
      "maple bandana\n",
      "auburn bandana\n",
      "burnt sienna bandana\n",
      "gunmetal blue bandana\n",
      "Dark Sapphire bandana\n",
      "cerise cumber band\n",
      "fuschia cumber band\n",
      "aqua cumber band\n",
      "maple cumber band\n",
      "auburn cumber band\n",
      "burnt sienna cumber band\n",
      "gunmetal blue cumber band\n",
      "Dark Sapphire cumber band\n",
      "cerise blazer\n",
      "fuschia blazer\n",
      "aqua blazer\n",
      "maple blazer\n",
      "auburn blazer\n",
      "burnt sienna blazer\n",
      "gunmetal blue blazer\n",
      "Dark Sapphire blazer\n",
      "cerise vest\n",
      "fuschia vest\n",
      "aqua vest\n",
      "maple vest\n",
      "auburn vest\n",
      "burnt sienna vest\n",
      "gunmetal blue vest\n",
      "Dark Sapphire vest\n",
      "cerise french beret\n",
      "fuschia french beret\n",
      "aqua french beret\n",
      "maple french beret\n",
      "auburn french beret\n",
      "burnt sienna french beret\n",
      "gunmetal blue french beret\n",
      "Dark Sapphire french beret\n",
      "cerise scarf\n",
      "fuschia scarf\n",
      "aqua scarf\n",
      "maple scarf\n",
      "auburn scarf\n",
      "burnt sienna scarf\n",
      "gunmetal blue scarf\n",
      "Dark Sapphire scarf\n",
      "cerise stole\n",
      "fuschia stole\n",
      "aqua stole\n",
      "maple stole\n",
      "auburn stole\n",
      "burnt sienna stole\n",
      "gunmetal blue stole\n",
      "Dark Sapphire stole\n"
     ]
    }
   ],
   "source": [
    "couture = [\"trousers\", \"blouse\", \"bandana\", \"cumber band\", \"blazer\", \"vest\", \"french beret\", \"scarf\", \"stole\"]\n",
    "panettone = [\"cerise\", \"fuschia\", \"aqua\", \"maple\", \"auburn\", \"burnt sienna\", \"gunmetal blue\", \"Dark Sapphire\"]\n",
    "\n",
    "for x in couture:\n",
    "\tfor y in panettone:\n",
    "\t\tprint(y,x)  "
   ]
  },
  {
   "cell_type": "code",
   "execution_count": 19,
   "metadata": {},
   "outputs": [
    {
     "name": "stdout",
     "output_type": "stream",
     "text": [
      "Sum of range is:  5050\n"
     ]
    }
   ],
   "source": [
    "print (\"Sum of range is: \", sum(range(1, 101)))"
   ]
  },
  {
   "cell_type": "code",
   "execution_count": 39,
   "metadata": {},
   "outputs": [
    {
     "name": "stdout",
     "output_type": "stream",
     "text": [
      "banana\n",
      "['kiwi', 'banana', 'cherry']\n",
      "['kiwi', 'banana', 'cherry', 'orange']\n",
      "['kiwi', 'lemon', 'banana', 'cherry', 'orange']\n",
      "['kiwi', 'lemon', 'cherry', 'orange']\n",
      "melon\n",
      "kiwi\n",
      "['cherry', 'orange', 'kiwi']\n",
      "7\n",
      "['orange', 'melon', 'mango', 'kiwi', 'cherry', 'banana', 'apple']\n"
     ]
    }
   ],
   "source": [
    "list = [\"apple\", \"banana\", \"cherry\"]\n",
    "print(list[1])\n",
    "\n",
    "list[0] = \"kiwi\"\n",
    "print(list)\n",
    "\n",
    "list.append(\"orange\")\n",
    "print(list)\n",
    "\n",
    "list.insert(1, 'lemon')\n",
    "print(list)\n",
    "\n",
    "list.remove('banana')\n",
    "print(list)\n",
    "\n",
    "list2 = [\"apple\", \"banana\", \"cherry\", \"orange\", \"kiwi\", \"melon\", \"mango\"]\n",
    "print(list2[-2])\n",
    "print(list2[-3])\n",
    "\n",
    "print(list2[2:5])\n",
    "\n",
    "print(len(list2))\n",
    "\n",
    "list2.sort(reverse = True)\n",
    "print(list2)"
   ]
  },
  {
   "cell_type": "code",
   "execution_count": 45,
   "metadata": {},
   "outputs": [
    {
     "name": "stdout",
     "output_type": "stream",
     "text": [
      "February\n"
     ]
    }
   ],
   "source": [
    "from datetime import date\n",
    "\n",
    "today = date.today()\n",
    "\n",
    "month = today.strftime(\"%B\")\n",
    "print(month)"
   ]
  },
  {
   "cell_type": "code",
   "execution_count": 55,
   "metadata": {},
   "outputs": [
    {
     "name": "stdout",
     "output_type": "stream",
     "text": [
      "Please enter your name:\n",
      "Hello bbb Happy Sunday !\n"
     ]
    }
   ],
   "source": [
    "day_name = \"Sunday\"\n",
    "\n",
    "print(\"Please enter your name:\")\n",
    "firstName = input(str())\n",
    "\n",
    "print('Hello', firstName, 'Happy', day_name,'!')"
   ]
  },
  {
   "cell_type": "code",
   "execution_count": 65,
   "metadata": {},
   "outputs": [
    {
     "name": "stdout",
     "output_type": "stream",
     "text": [
      "There is a problem with your request. Please try again.\n"
     ]
    }
   ],
   "source": [
    "try:\n",
    "    print(z)\n",
    "except:\n",
    "    print(\"There is a problem with your request. Please try again.\")\n"
   ]
  }
 ],
 "metadata": {
  "kernelspec": {
   "display_name": "Python 3",
   "language": "python",
   "name": "python3"
  },
  "language_info": {
   "codemirror_mode": {
    "name": "ipython",
    "version": 3
   },
   "file_extension": ".py",
   "mimetype": "text/x-python",
   "name": "python",
   "nbconvert_exporter": "python",
   "pygments_lexer": "ipython3",
   "version": "3.9.6"
  }
 },
 "nbformat": 4,
 "nbformat_minor": 2
}
